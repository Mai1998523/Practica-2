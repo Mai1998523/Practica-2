{
 "cells": [
  {
   "cell_type": "markdown",
   "id": "f3323e91",
   "metadata": {},
   "source": [
    "# VIDEO 09 MANEJO DE DATOS AUSENTES\n",
    "\n",
    "NaN y Nose son valores ausentes / pandas.isnull() determina si existen valores ausentes en los datos\n",
    "#### Maigualida Lizet Rangel Serrano 1951"
   ]
  },
  {
   "cell_type": "code",
   "execution_count": null,
   "id": "aa48f30a",
   "metadata": {},
   "outputs": [],
   "source": [
    "import numpy as np\n",
    "import pandas as pd\n",
    "\n",
    "df = pd.DataFrame({\n",
    "    'VarA':['aa', None, 'cc'],\n",
    "    'VarB':[20, 30, None],\n",
    "    'VarC':[1234, 3456, 6789]\n",
    "    },\n",
    "    index = ['Caso1','Caso2','Caso3']\n",
    ")\n",
    "\n",
    "df"
   ]
  },
  {
   "cell_type": "code",
   "execution_count": null,
   "id": "2a3887a4",
   "metadata": {},
   "outputs": [],
   "source": [
    "pd.isnull(df)"
   ]
  },
  {
   "cell_type": "code",
   "execution_count": null,
   "id": "160b07e8",
   "metadata": {},
   "outputs": [],
   "source": [
    "#Decidir que hacer con los valores nulos\n",
    "#Descartar filas con numeros ausentes\n",
    "df.dropna(subset=[\"VarA\",'VarB'])"
   ]
  },
  {
   "cell_type": "code",
   "execution_count": null,
   "id": "dc3d37b8",
   "metadata": {},
   "outputs": [],
   "source": [
    "#Sustituir valores nulos con un valor determinado\n",
    "df.fillna(\"\")"
   ]
  },
  {
   "cell_type": "code",
   "execution_count": null,
   "id": "55e8c87c",
   "metadata": {},
   "outputs": [],
   "source": [
    "df.fillna(df.mean())"
   ]
  },
  {
   "cell_type": "code",
   "execution_count": null,
   "id": "e8f0ce76",
   "metadata": {},
   "outputs": [],
   "source": [
    "df.fillna(25)"
   ]
  },
  {
   "cell_type": "markdown",
   "id": "b7777737",
   "metadata": {},
   "source": [
    "# VIDEO 10 MUESTRAS ALEATORIAS"
   ]
  },
  {
   "cell_type": "code",
   "execution_count": null,
   "id": "6da034ea",
   "metadata": {},
   "outputs": [],
   "source": [
    "import numpy as np\n",
    "import pandas as pd\n",
    "\n",
    "def CrearDataSet(Number=1):\n",
    "    Output = []\n",
    "    for i in range(Number):\n",
    "        #Crear un rango de fechas semanal\n",
    "        rng = pd.date_range(start='1/1/2016', end='12/31/2020', freq='W-MON')\n",
    "        \n",
    "        #crear valores aleatorios\n",
    "        data = np.random.randint(low=25,high=1000,size=len(rng))\n",
    "        \n",
    "        #Estatus posible\n",
    "        status = [1,2,3]\n",
    "        \n",
    "        #lista de estatus aleatorios\n",
    "        random_status = [status[np.random.randint(low=0,high=len(status))] for i in range(len(rng))]\n",
    "        \n",
    "        #estatus posibles\n",
    "        states = ['Libertador','El Hatillo','El hatillo','Chacao', 'Baruta','Sucre']\n",
    "        \n",
    "        #Crear una lista aleatoria de estatus\n",
    "        random_states = [states[np.random.randint(low=0,high=len(states))] for i in range (len(rng))]\n",
    "        \n",
    "        Output.extend(zip(random_states, random_status, data, rng))\n",
    "    return Output\n",
    "        \n",
    "        "
   ]
  },
  {
   "cell_type": "code",
   "execution_count": null,
   "id": "065a9809",
   "metadata": {},
   "outputs": [],
   "source": [
    "dataset = CrearDataSet(4)\n",
    "\n",
    "df = pd.DataFrame(data=dataset,columns=['Local', 'Estatus_local', 'Cantidad_Clientes', 'Fecha_Status'])\n",
    "df"
   ]
  },
  {
   "cell_type": "code",
   "execution_count": null,
   "id": "9fc31c13",
   "metadata": {},
   "outputs": [],
   "source": [
    "filas = np.random.choice(df.index, 10, replace = False)\n",
    "filas"
   ]
  },
  {
   "cell_type": "code",
   "execution_count": null,
   "id": "8dad0a16",
   "metadata": {},
   "outputs": [],
   "source": [
    "df.loc[filas]"
   ]
  },
  {
   "cell_type": "markdown",
   "id": "23cbf28d",
   "metadata": {},
   "source": [
    "# VIDEO 11 LECTURA DE FICHEROS DE DATOS\n",
    "\n",
    "Nos permite leer/escribir en varrios formatos .csv, .txt, .xlsx .json, .etc\n",
    "###### read_csv() / read_excel()\n"
   ]
  },
  {
   "cell_type": "code",
   "execution_count": null,
   "id": "45ce9750",
   "metadata": {},
   "outputs": [],
   "source": [
    "import numpy as np\n",
    "import pandas as pd\n",
    "\n",
    "datos = {\n",
    "    'CHIN': {'COUNTRY': 'China', 'POP': 1_398.72, 'AREA': 9_596.96,\n",
    "            'GDP': 12_234.78, 'CONT': 'Asia'},\n",
    "    'IND': {'COUNTRY': 'India', 'POP': 1_351.16, 'AREA': 3_287.26,\n",
    "            'GDP': 2_575.67, 'CONT': 'Asia', 'IND_DAY': '1947-08-15'},\n",
    "    'USA': {'COUNTRY': 'ChUSina', 'POP': 329.74, 'AREA': 9_833.52,\n",
    "            'GDP': 19_485.39, 'CONT': 'N.America', 'IND_DAY': '1776-07-04'},\n",
    "    'IDN': {'COUNTRY': 'Indonesia', 'POP': 268.07, 'AREA': 1_910.83,\n",
    "            'GDP': 1_015.24, 'CONT': 'Asia', 'IND_DAY': '1945-08-17'},\n",
    "    'BRA': {'COUNTRY': 'Brasial', 'POP': 210.32, 'AREA': 8_515.77,\n",
    "            'GDP': 2_055.21, 'CONT': 'S.America', 'IND_DAY': '1822-09-07'}\n",
    "    \n",
    "}\n",
    "columnas = ('COUNTRY','POP','AREA','GDP','CONT','IND_DAY')"
   ]
  },
  {
   "cell_type": "code",
   "execution_count": null,
   "id": "86fbc568",
   "metadata": {},
   "outputs": [],
   "source": [
    "df = pd.DataFrame(data=datos, index=columnas)\n",
    "#Convierte o transforma ah matriz transpuesta\n",
    "df"
   ]
  },
  {
   "cell_type": "code",
   "execution_count": null,
   "id": "ba8f0740",
   "metadata": {},
   "outputs": [],
   "source": [
    "df = pd.DataFrame(data=datos, index=columnas).T\n",
    "#Convierte o transforma ah matriz transpuesta\n",
    "df"
   ]
  },
  {
   "cell_type": "code",
   "execution_count": null,
   "id": "ff586f7f",
   "metadata": {},
   "outputs": [],
   "source": [
    "#PERMITE CREAR EL FRAME EN UN CSV\n",
    "df.to_csv('datos.csv')"
   ]
  },
  {
   "cell_type": "code",
   "execution_count": null,
   "id": "20c71401",
   "metadata": {},
   "outputs": [],
   "source": [
    "#LEER EL CSV\n",
    "df2 = pd.read_csv('datos.csv')\n",
    "df2.head()"
   ]
  },
  {
   "cell_type": "code",
   "execution_count": null,
   "id": "246456c9",
   "metadata": {},
   "outputs": [],
   "source": [
    "df2 = pd.read_csv('datos.csv', index_col=0)\n",
    "df2.head()"
   ]
  },
  {
   "cell_type": "code",
   "execution_count": null,
   "id": "7e7bc60f",
   "metadata": {},
   "outputs": [],
   "source": [
    "df.to_csv('nuevos_datos.csv',header=True, na_rep='(missing)')"
   ]
  },
  {
   "cell_type": "code",
   "execution_count": null,
   "id": "dd7a789a",
   "metadata": {},
   "outputs": [],
   "source": [
    "df2 = pd.read_csv('nuevos_datos.csv',\n",
    "                  index_col=0,\n",
    "                 na_values='(missing)')\n",
    "df2"
   ]
  },
  {
   "cell_type": "code",
   "execution_count": null,
   "id": "8132d90d",
   "metadata": {},
   "outputs": [],
   "source": [
    "df2 = pd.read_csv('nuevos_datos.csv')\n",
    "                  #index_col=0,\n",
    "                 #na_values='(missing)')\n",
    "df2"
   ]
  },
  {
   "cell_type": "code",
   "execution_count": null,
   "id": "5e446d63",
   "metadata": {},
   "outputs": [],
   "source": [
    "df2.dtypes"
   ]
  },
  {
   "cell_type": "code",
   "execution_count": null,
   "id": "39892ab2",
   "metadata": {},
   "outputs": [],
   "source": [
    "ti_da = {'POP': 'float32', 'AREA': 'float32', 'GDP': 'float32'}\n",
    "\n",
    "df3 = pd.read_csv('datos.csv',\n",
    "                 index_col=0,\n",
    "                 parse_dates=['IND_DAY'],\n",
    "                 dtype = ti_da)\n",
    "df3.dtypes "
   ]
  },
  {
   "cell_type": "code",
   "execution_count": null,
   "id": "dac1ed05",
   "metadata": {},
   "outputs": [],
   "source": [
    "df3.IND_DAY"
   ]
  },
  {
   "cell_type": "code",
   "execution_count": null,
   "id": "82414d07",
   "metadata": {},
   "outputs": [],
   "source": [
    "#como almacenara la columna de tiempo\n",
    "#%B nombre mes completo/%d dia de mes / %Y año\n",
    "df3.to_csv('datos-fechas-format.csv', date_format='%B %d, %Y')"
   ]
  },
  {
   "cell_type": "code",
   "execution_count": null,
   "id": "61741182",
   "metadata": {},
   "outputs": [],
   "source": [
    "df4 = pd.read_csv('datos-fechas-format.csv',\n",
    "                 index_col=0\n",
    "                 )\n",
    "df4"
   ]
  },
  {
   "cell_type": "code",
   "execution_count": null,
   "id": "78e0bef9",
   "metadata": {},
   "outputs": [],
   "source": [
    "df5 = pd.read_csv('datos.csv',\n",
    "                  index_col=0,\n",
    "                  usecols=[0,1,3,5]\n",
    "                 )\n",
    "df5"
   ]
  },
  {
   "cell_type": "code",
   "execution_count": null,
   "id": "ab149d00",
   "metadata": {},
   "outputs": [],
   "source": [
    "df5 = pd.read_csv('datos.csv',\n",
    "                  usecols=[1,3,5],\n",
    "                  index_col=0\n",
    "                 )\n",
    "df5"
   ]
  },
  {
   "cell_type": "code",
   "execution_count": null,
   "id": "98eceaa4",
   "metadata": {},
   "outputs": [],
   "source": [
    "#comprimir archivos y exportarlos a un zip\n",
    "df.to_csv('datos.csv.zip')"
   ]
  },
  {
   "cell_type": "code",
   "execution_count": null,
   "id": "e80fdd0b",
   "metadata": {},
   "outputs": [],
   "source": [
    "df = pd.read_csv('datos.csv.zip', index_col=0, parse_dates=['IND_DAY'])\n",
    "df"
   ]
  },
  {
   "cell_type": "code",
   "execution_count": null,
   "id": "8e4132dc",
   "metadata": {},
   "outputs": [],
   "source": [
    "#Exportar a hoja de excel\n",
    "#sheet_name / nombre de hoja\n",
    "df.to_excel('data.xlsx', sheet_name='paises')\n",
    "print('listo')"
   ]
  },
  {
   "cell_type": "code",
   "execution_count": null,
   "id": "30ad45af",
   "metadata": {},
   "outputs": [],
   "source": [
    "df = pd.read_excel('data.xlsx', sheet_name='paises',\n",
    "                  index_col=0,\n",
    "                  parse_dates=['IND_DAY'])\n",
    "df"
   ]
  },
  {
   "attachments": {
    "image.png": {
     "image/png": "[encoded data removed]"
    }
   },
   "cell_type": "markdown",
   "id": "6aa84166",
   "metadata": {},
   "source": [
    "# VIDEO 12 COMBINACION DE CONJUNTOS DE DATOS\n",
    "\n",
    "![image.png](attachment:image.png)"
   ]
  },
  {
   "cell_type": "code",
   "execution_count": null,
   "id": "279af5df",
   "metadata": {},
   "outputs": [],
   "source": [
    "import numpy as np\n",
    "import pandas as pd"
   ]
  },
  {
   "cell_type": "code",
   "execution_count": null,
   "id": "cea51e2a",
   "metadata": {},
   "outputs": [],
   "source": [
    "clima_p=pd.read_csv(r'C:\\Users\\maigu\\ACTIVIDAD 3 Y 4 PYTHON\\ar\\029 ny_precipitaciones.csv')\n",
    "clima_p.shape\n",
    "#dataframe de 2000 filas * 13 columnas"
   ]
  },
  {
   "cell_type": "code",
   "execution_count": null,
   "id": "d10a98cf",
   "metadata": {},
   "outputs": [],
   "source": [
    "clima_p.head()"
   ]
  },
  {
   "cell_type": "code",
   "execution_count": null,
   "id": "003b0a53",
   "metadata": {},
   "outputs": [],
   "source": [
    "clima_t = pd.read_csv(r'C:\\Users\\maigu\\ACTIVIDAD 3 Y 4 PYTHON\\ar\\029 ny_temperaturas.csv')\n",
    "clima_t.shape"
   ]
  },
  {
   "cell_type": "code",
   "execution_count": null,
   "id": "4ac0ce64",
   "metadata": {},
   "outputs": [],
   "source": [
    "#subconjunto de ellos, serie de pandas con todos los nombres\n",
    "\n",
    "clima_t.NAME"
   ]
  },
  {
   "cell_type": "code",
   "execution_count": null,
   "id": "ad833c39",
   "metadata": {},
   "outputs": [],
   "source": [
    "#serie de pandas con valores booleanos\n",
    "clima_p[\"NAME\"] == \"ITHACA CORNELL UNIVERSITY, NY US\"\n"
   ]
  },
  {
   "cell_type": "code",
   "execution_count": null,
   "id": "b22961e5",
   "metadata": {},
   "outputs": [],
   "source": [
    "clima_p[clima_p[\"NAME\"] == \"ITHACA CORNELL UNIVERSITY, NY US\"]"
   ]
  },
  {
   "cell_type": "code",
   "execution_count": null,
   "id": "e42d5b3e",
   "metadata": {},
   "outputs": [],
   "source": [
    "precip_itaca = clima_p[clima_p[\"NAME\"] == \"ITHACA CORNELL UNIVERSITY, NY US\"]\n",
    "precip_itaca.shape\n",
    "\n",
    "#filas / columnas"
   ]
  },
  {
   "cell_type": "code",
   "execution_count": null,
   "id": "8ef1fc4b",
   "metadata": {},
   "outputs": [],
   "source": [
    "#inner join entre ambos dataframes\n",
    "itaca_inner_merge = pd.merge(precip_itaca, clima_t)\n",
    "itaca_inner_merge.shape"
   ]
  },
  {
   "cell_type": "code",
   "execution_count": null,
   "id": "cb165734",
   "metadata": {
    "scrolled": true
   },
   "outputs": [],
   "source": [
    "itaca_inner_merge.head()"
   ]
  },
  {
   "cell_type": "code",
   "execution_count": null,
   "id": "af514fd6",
   "metadata": {},
   "outputs": [],
   "source": [
    "#Outer join / podemos especificar la clase de join\n",
    "itaca_outer_merge = pd.merge(precip_itaca, clima_t, how=\"outer\", on=[\"STATION\", \"DATE\"])\n",
    "itaca_outer_merge.columns"
   ]
  },
  {
   "cell_type": "code",
   "execution_count": null,
   "id": "f55ad913",
   "metadata": {},
   "outputs": [],
   "source": [
    "itaca_outer_merge.shape"
   ]
  },
  {
   "cell_type": "code",
   "execution_count": null,
   "id": "8e4a3bdf",
   "metadata": {},
   "outputs": [],
   "source": [
    "itaca_outer_merge.head(15)"
   ]
  },
  {
   "cell_type": "code",
   "execution_count": null,
   "id": "89140405",
   "metadata": {},
   "outputs": [],
   "source": [
    "#left join \n",
    "itaca_left_merge = pd.merge(precip_itaca, clima_t,\n",
    "                        how=\"left\", on=[\"STATION\", \"DATE\"])\n",
    "itaca_left_merge.shape"
   ]
  },
  {
   "cell_type": "code",
   "execution_count": null,
   "id": "a205c4d0",
   "metadata": {},
   "outputs": [],
   "source": [
    "itaca_left_merge.head()"
   ]
  },
  {
   "cell_type": "code",
   "execution_count": null,
   "id": "1f9780f0",
   "metadata": {},
   "outputs": [],
   "source": [
    "#Right join \n",
    "itaca_right_merge = pd.merge(clima_t, precip_itaca, \n",
    "                        how=\"right\", on=[\"STATION\", \"DATE\"])\n",
    "itaca_right_merge.shape"
   ]
  },
  {
   "cell_type": "markdown",
   "id": "f080ebe2",
   "metadata": {},
   "source": [
    "# VIDEO 13 COMBINACION DE CONJUNTOS DE DATOS II"
   ]
  },
  {
   "cell_type": "code",
   "execution_count": null,
   "id": "b07545ae",
   "metadata": {},
   "outputs": [],
   "source": [
    "#merge funcion del modulo pandas\n",
    "#join union de dataframes a partir de indices"
   ]
  },
  {
   "cell_type": "code",
   "execution_count": null,
   "id": "4d59435b",
   "metadata": {},
   "outputs": [],
   "source": [
    "clima_join = clima_t.join(clima_p, lsuffix = '_left')\n",
    "clima_join.head()"
   ]
  },
  {
   "cell_type": "code",
   "execution_count": null,
   "id": "c8e69cf5",
   "metadata": {},
   "outputs": [],
   "source": [
    "clima_join.columns"
   ]
  },
  {
   "cell_type": "code",
   "execution_count": null,
   "id": "fb67bbd3",
   "metadata": {},
   "outputs": [],
   "source": [
    "#permite mover una o mas columnas del dataframe a los indices\n",
    "clima_p.set_index([\"STATION\", \"DATE\"])"
   ]
  },
  {
   "cell_type": "code",
   "execution_count": null,
   "id": "5d37543e",
   "metadata": {},
   "outputs": [],
   "source": [
    "clima_joined_total = clima_t.join(clima_p.set_index([\"STATION\", \"DATE\"]),\n",
    "                                  lsuffix=\"_x\",#subfijo\n",
    "                                  rsuffix=\"_y\",#subfijo\n",
    "                                  on=[\"STATION\", \"DATE\"], #que columnas van a servir para realizar el cruce\n",
    "                                 )\n",
    "clima_joined_total.head()"
   ]
  },
  {
   "cell_type": "code",
   "execution_count": null,
   "id": "ed4311af",
   "metadata": {},
   "outputs": [],
   "source": [
    "#CONCAT / juntar dataframes a traves de un eje, filas o columnas\n",
    "#lista de nombre de variables a concatenar, axis o eje\n",
    "clima_total_outer_concat = pd.concat([clima_t, clima_p], axis=1)\n",
    "clima_total_outer_concat.head()"
   ]
  },
  {
   "cell_type": "code",
   "execution_count": null,
   "id": "eeca4079",
   "metadata": {},
   "outputs": [],
   "source": [
    "clima_total_outer_concat.tail()"
   ]
  },
  {
   "cell_type": "code",
   "execution_count": null,
   "id": "f85ccc85",
   "metadata": {},
   "outputs": [],
   "source": [
    "clima_total_outer_concat = pd.concat([clima_t, clima_p], axis=0)\n",
    "clima_total_outer_concat.shape"
   ]
  },
  {
   "cell_type": "code",
   "execution_count": null,
   "id": "b7053af4",
   "metadata": {},
   "outputs": [],
   "source": [
    "clima_total_outer_concat.head()"
   ]
  },
  {
   "cell_type": "code",
   "execution_count": null,
   "id": "76e2d60f",
   "metadata": {},
   "outputs": [],
   "source": [
    "df_jerar = pd.concat([clima_t, clima_p], keys=[\"temp\", \"precip\"])\n",
    "df_jerar"
   ]
  },
  {
   "cell_type": "markdown",
   "id": "43c71d0a",
   "metadata": {},
   "source": [
    "# VIDEO 14 FUNCION DE AGRUPACION"
   ]
  },
  {
   "cell_type": "code",
   "execution_count": 18,
   "id": "6c096d70",
   "metadata": {
    "scrolled": true
   },
   "outputs": [
    {
     "data": {
      "text/html": [
       "<div>\n",
       "<style scoped>\n",
       "    .dataframe tbody tr th:only-of-type {\n",
       "        vertical-align: middle;\n",
       "    }\n",
       "\n",
       "    .dataframe tbody tr th {\n",
       "        vertical-align: top;\n",
       "    }\n",
       "\n",
       "    .dataframe thead th {\n",
       "        text-align: right;\n",
       "    }\n",
       "</style>\n",
       "<table border=\"1\" class=\"dataframe\">\n",
       "  <thead>\n",
       "    <tr style=\"text-align: right;\">\n",
       "      <th></th>\n",
       "      <th>fecha</th>\n",
       "      <th>duracion</th>\n",
       "      <th>item</th>\n",
       "      <th>mes</th>\n",
       "      <th>red</th>\n",
       "      <th>tipo_red</th>\n",
       "    </tr>\n",
       "    <tr>\n",
       "      <th>indice</th>\n",
       "      <th></th>\n",
       "      <th></th>\n",
       "      <th></th>\n",
       "      <th></th>\n",
       "      <th></th>\n",
       "      <th></th>\n",
       "    </tr>\n",
       "  </thead>\n",
       "  <tbody>\n",
       "    <tr>\n",
       "      <th>0</th>\n",
       "      <td>2014-10-15 06:58:00</td>\n",
       "      <td>34.429</td>\n",
       "      <td>data</td>\n",
       "      <td>2014-11</td>\n",
       "      <td>data</td>\n",
       "      <td>data</td>\n",
       "    </tr>\n",
       "    <tr>\n",
       "      <th>1</th>\n",
       "      <td>2014-10-15 06:58:00</td>\n",
       "      <td>13.000</td>\n",
       "      <td>call</td>\n",
       "      <td>2014-11</td>\n",
       "      <td>Vodafone</td>\n",
       "      <td>mobile</td>\n",
       "    </tr>\n",
       "    <tr>\n",
       "      <th>2</th>\n",
       "      <td>2014-10-15 14:46:00</td>\n",
       "      <td>23.000</td>\n",
       "      <td>call</td>\n",
       "      <td>2014-11</td>\n",
       "      <td>Meteor</td>\n",
       "      <td>mobile</td>\n",
       "    </tr>\n",
       "    <tr>\n",
       "      <th>3</th>\n",
       "      <td>2014-10-15 14:48:00</td>\n",
       "      <td>4.000</td>\n",
       "      <td>call</td>\n",
       "      <td>2014-11</td>\n",
       "      <td>Tesco</td>\n",
       "      <td>mobile</td>\n",
       "    </tr>\n",
       "    <tr>\n",
       "      <th>4</th>\n",
       "      <td>2014-10-15 17:27:00</td>\n",
       "      <td>4.000</td>\n",
       "      <td>call</td>\n",
       "      <td>2014-11</td>\n",
       "      <td>Tesco</td>\n",
       "      <td>mobile</td>\n",
       "    </tr>\n",
       "  </tbody>\n",
       "</table>\n",
       "</div>"
      ],
      "text/plain": [
       "                     fecha  duracion  item      mes       red tipo_red\n",
       "indice                                                                \n",
       "0      2014-10-15 06:58:00    34.429  data  2014-11      data     data\n",
       "1      2014-10-15 06:58:00    13.000  call  2014-11  Vodafone   mobile\n",
       "2      2014-10-15 14:46:00    23.000  call  2014-11    Meteor   mobile\n",
       "3      2014-10-15 14:48:00     4.000  call  2014-11     Tesco   mobile\n",
       "4      2014-10-15 17:27:00     4.000  call  2014-11     Tesco   mobile"
      ]
     },
     "execution_count": 18,
     "metadata": {},
     "output_type": "execute_result"
    }
   ],
   "source": [
    "import numpy as np\n",
    "import pandas as pd\n",
    "\n",
    "data = pd.read_csv(r'C:\\Users\\maigu\\ACTIVIDAD 3 Y 4 PYTHON\\ar\\031 data_celular.csv',\n",
    "                  header = 0,\n",
    "                  index_col = 0,\n",
    "                  names = ['indice', 'fecha', 'duracion', 'item', 'mes', 'red', 'tipo_red'],\n",
    "                  parse_dates = ['fecha'])\n",
    "data.head()"
   ]
  },
  {
   "cell_type": "code",
   "execution_count": 19,
   "id": "1c717b6d",
   "metadata": {},
   "outputs": [
    {
     "name": "stdout",
     "output_type": "stream",
     "text": [
      "cuantas filas tiene el DF:  \n",
      "830\n"
     ]
    }
   ],
   "source": [
    "print('cuantas filas tiene el DF:  ')\n",
    "print(data['item'].count())"
   ]
  },
  {
   "cell_type": "code",
   "execution_count": 20,
   "id": "5756753a",
   "metadata": {},
   "outputs": [
    {
     "name": "stdout",
     "output_type": "stream",
     "text": [
      "el tiempo total (en segundos) registrado en llamadas es: \n",
      "92321.0\n"
     ]
    }
   ],
   "source": [
    "print('el tiempo total (en segundos) registrado en llamadas es: ')\n",
    "print(data['duracion'][data['item'] == 'call'].sum())"
   ]
  },
  {
   "cell_type": "code",
   "execution_count": 21,
   "id": "ea23a19f",
   "metadata": {},
   "outputs": [
    {
     "name": "stdout",
     "output_type": "stream",
     "text": [
      "con cuantas redes telefonicas se contacto en el periodo de 2014/11 al 2015/03:  \n",
      "9\n"
     ]
    }
   ],
   "source": [
    "print('con cuantas redes telefonicas se contacto en el periodo de 2014/11 al 2015/03:  ')\n",
    "print(data['red'].nunique())"
   ]
  },
  {
   "cell_type": "code",
   "execution_count": 22,
   "id": "084a7e82",
   "metadata": {},
   "outputs": [
    {
     "data": {
      "text/plain": [
       "<pandas.core.groupby.generic.DataFrameGroupBy object at 0x0000022202DE1730>"
      ]
     },
     "execution_count": 22,
     "metadata": {},
     "output_type": "execute_result"
    }
   ],
   "source": [
    "#.GROUPBY() / AGRUPAR POR\n",
    "data.groupby('mes')"
   ]
  },
  {
   "cell_type": "code",
   "execution_count": 23,
   "id": "c642fab2",
   "metadata": {},
   "outputs": [
    {
     "data": {
      "text/plain": [
       "dict_keys(['2014-11', '2014-12', '2015-01', '2015-02', '2015-03'])"
      ]
     },
     "execution_count": 23,
     "metadata": {},
     "output_type": "execute_result"
    }
   ],
   "source": [
    "#.GROUPBY() / AGRUPAR POR\n",
    "data.groupby('mes').groups.keys()"
   ]
  },
  {
   "cell_type": "code",
   "execution_count": 24,
   "id": "2acd5ac6",
   "metadata": {},
   "outputs": [
    {
     "data": {
      "text/html": [
       "<div>\n",
       "<style scoped>\n",
       "    .dataframe tbody tr th:only-of-type {\n",
       "        vertical-align: middle;\n",
       "    }\n",
       "\n",
       "    .dataframe tbody tr th {\n",
       "        vertical-align: top;\n",
       "    }\n",
       "\n",
       "    .dataframe thead th {\n",
       "        text-align: right;\n",
       "    }\n",
       "</style>\n",
       "<table border=\"1\" class=\"dataframe\">\n",
       "  <thead>\n",
       "    <tr style=\"text-align: right;\">\n",
       "      <th></th>\n",
       "      <th>duracion</th>\n",
       "    </tr>\n",
       "    <tr>\n",
       "      <th>mes</th>\n",
       "      <th></th>\n",
       "    </tr>\n",
       "  </thead>\n",
       "  <tbody>\n",
       "    <tr>\n",
       "      <th>2014-11</th>\n",
       "      <td>26639.441</td>\n",
       "    </tr>\n",
       "    <tr>\n",
       "      <th>2014-12</th>\n",
       "      <td>14641.870</td>\n",
       "    </tr>\n",
       "    <tr>\n",
       "      <th>2015-01</th>\n",
       "      <td>18223.299</td>\n",
       "    </tr>\n",
       "    <tr>\n",
       "      <th>2015-02</th>\n",
       "      <td>15522.299</td>\n",
       "    </tr>\n",
       "    <tr>\n",
       "      <th>2015-03</th>\n",
       "      <td>22750.441</td>\n",
       "    </tr>\n",
       "  </tbody>\n",
       "</table>\n",
       "</div>"
      ],
      "text/plain": [
       "          duracion\n",
       "mes               \n",
       "2014-11  26639.441\n",
       "2014-12  14641.870\n",
       "2015-01  18223.299\n",
       "2015-02  15522.299\n",
       "2015-03  22750.441"
      ]
     },
     "execution_count": 24,
     "metadata": {},
     "output_type": "execute_result"
    }
   ],
   "source": [
    "data.groupby('mes').sum()"
   ]
  },
  {
   "cell_type": "code",
   "execution_count": 25,
   "id": "1a5a6ffb",
   "metadata": {},
   "outputs": [
    {
     "name": "stdout",
     "output_type": "stream",
     "text": [
      "en el siguiente cuadro vemos la cantidad de entradas por mes \n",
      " segregadas en llamadas, sms y datos: \n",
      " \n",
      "  mes      item\n",
      "2014-11  call    107\n",
      "         data     29\n",
      "         sms      94\n",
      "2014-12  call     79\n",
      "         data     30\n",
      "         sms      48\n",
      "2015-01  call     88\n",
      "         data     31\n",
      "         sms      86\n",
      "2015-02  call     67\n",
      "         data     31\n",
      "         sms      39\n",
      "2015-03  call     47\n",
      "         data     29\n",
      "         sms      25\n",
      "Name: duracion, dtype: int64\n"
     ]
    }
   ],
   "source": [
    "print('en el siguiente cuadro vemos la cantidad de entradas por mes \\n segregadas en llamadas, sms y datos: \\n \\n ', data.groupby(['mes','item'])[\"duracion\"].count())\n"
   ]
  },
  {
   "cell_type": "code",
   "execution_count": 26,
   "id": "aaa2ce6d",
   "metadata": {},
   "outputs": [
    {
     "name": "stdout",
     "output_type": "stream",
     "text": [
      "la duracion total de llamadas realizadas a cada una de las operadoras es:  \n"
     ]
    },
    {
     "data": {
      "text/plain": [
       "red\n",
       "Meteor        7200.0\n",
       "Tesco        13828.0\n",
       "Three        36464.0\n",
       "Vodafone     14621.0\n",
       "landline     18433.0\n",
       "voicemail     1775.0\n",
       "Name: duracion, dtype: float64"
      ]
     },
     "execution_count": 26,
     "metadata": {},
     "output_type": "execute_result"
    }
   ],
   "source": [
    "print('la duracion total de llamadas realizadas a cada una de las operadoras es:  ')\n",
    "data[data['item'] == 'call'].groupby('red')['duracion'].sum()"
   ]
  },
  {
   "cell_type": "code",
   "execution_count": 27,
   "id": "f9d8accb",
   "metadata": {},
   "outputs": [
    {
     "name": "stdout",
     "output_type": "stream",
     "text": [
      "¿cuantas llamadas, sms y datos son enviados a cada operadora por mes?:  \n"
     ]
    },
    {
     "data": {
      "text/plain": [
       "mes      tipo_red \n",
       "2014-11  data          29\n",
       "         landline       5\n",
       "         mobile       189\n",
       "         special        1\n",
       "         voicemail      6\n",
       "2014-12  data          30\n",
       "         landline       7\n",
       "         mobile       108\n",
       "         voicemail      8\n",
       "         world          4\n",
       "2015-01  data          31\n",
       "         landline      11\n",
       "         mobile       160\n",
       "         voicemail      3\n",
       "2015-02  data          31\n",
       "         landline       8\n",
       "         mobile        90\n",
       "         special        2\n",
       "         voicemail      6\n",
       "2015-03  data          29\n",
       "         landline      11\n",
       "         mobile        54\n",
       "         voicemail      4\n",
       "         world          3\n",
       "Name: fecha, dtype: int64"
      ]
     },
     "execution_count": 27,
     "metadata": {},
     "output_type": "execute_result"
    }
   ],
   "source": [
    "print('¿cuantas llamadas, sms y datos son enviados a cada operadora por mes?:  ')\n",
    "data.groupby(['mes','tipo_red'])['fecha'].count()"
   ]
  },
  {
   "cell_type": "markdown",
   "id": "ea4359ea",
   "metadata": {},
   "source": [
    "# VIDEO 15 OPERACIONES SOBRE DATOS AGRUPADOS"
   ]
  },
  {
   "cell_type": "code",
   "execution_count": 1,
   "id": "9a91d0db",
   "metadata": {},
   "outputs": [],
   "source": [
    "import numpy as np\n",
    "import pandas as pd\n",
    "\n",
    "ratings = pd.read_csv(r'C:\\Users\\maigu\\ACTIVIDAD 3 Y 4 PYTHON\\ar\\032 ratings.csv')\n",
    "peliculas = pd.read_csv(r'C:\\Users\\maigu\\ACTIVIDAD 3 Y 4 PYTHON\\ar\\032 peliculas.csv')\n",
    "usuarios = pd.read_csv(r'C:\\Users\\maigu\\ACTIVIDAD 3 Y 4 PYTHON\\ar\\032 usuarios.csv')"
   ]
  },
  {
   "cell_type": "code",
   "execution_count": 2,
   "id": "0801abcf",
   "metadata": {},
   "outputs": [
    {
     "data": {
      "text/plain": [
       "Index(['user_id', 'peli_id', 'rating', 'unix_timestamp'], dtype='object')"
      ]
     },
     "execution_count": 2,
     "metadata": {},
     "output_type": "execute_result"
    }
   ],
   "source": [
    "ratings.columns"
   ]
  },
  {
   "cell_type": "code",
   "execution_count": 3,
   "id": "01f1e576",
   "metadata": {},
   "outputs": [
    {
     "data": {
      "text/html": [
       "<div>\n",
       "<style scoped>\n",
       "    .dataframe tbody tr th:only-of-type {\n",
       "        vertical-align: middle;\n",
       "    }\n",
       "\n",
       "    .dataframe tbody tr th {\n",
       "        vertical-align: top;\n",
       "    }\n",
       "\n",
       "    .dataframe thead th {\n",
       "        text-align: right;\n",
       "    }\n",
       "</style>\n",
       "<table border=\"1\" class=\"dataframe\">\n",
       "  <thead>\n",
       "    <tr style=\"text-align: right;\">\n",
       "      <th></th>\n",
       "      <th>user_id</th>\n",
       "      <th>peli_id</th>\n",
       "      <th>rating</th>\n",
       "      <th>unix_timestamp</th>\n",
       "    </tr>\n",
       "  </thead>\n",
       "  <tbody>\n",
       "    <tr>\n",
       "      <th>0</th>\n",
       "      <td>196</td>\n",
       "      <td>242</td>\n",
       "      <td>3</td>\n",
       "      <td>881250949</td>\n",
       "    </tr>\n",
       "    <tr>\n",
       "      <th>1</th>\n",
       "      <td>186</td>\n",
       "      <td>302</td>\n",
       "      <td>3</td>\n",
       "      <td>891717742</td>\n",
       "    </tr>\n",
       "    <tr>\n",
       "      <th>2</th>\n",
       "      <td>22</td>\n",
       "      <td>377</td>\n",
       "      <td>1</td>\n",
       "      <td>878887116</td>\n",
       "    </tr>\n",
       "    <tr>\n",
       "      <th>3</th>\n",
       "      <td>244</td>\n",
       "      <td>51</td>\n",
       "      <td>2</td>\n",
       "      <td>880606923</td>\n",
       "    </tr>\n",
       "    <tr>\n",
       "      <th>4</th>\n",
       "      <td>166</td>\n",
       "      <td>346</td>\n",
       "      <td>1</td>\n",
       "      <td>886397596</td>\n",
       "    </tr>\n",
       "  </tbody>\n",
       "</table>\n",
       "</div>"
      ],
      "text/plain": [
       "   user_id  peli_id  rating  unix_timestamp\n",
       "0      196      242       3       881250949\n",
       "1      186      302       3       891717742\n",
       "2       22      377       1       878887116\n",
       "3      244       51       2       880606923\n",
       "4      166      346       1       886397596"
      ]
     },
     "execution_count": 3,
     "metadata": {},
     "output_type": "execute_result"
    }
   ],
   "source": [
    "ratings.head()"
   ]
  },
  {
   "cell_type": "code",
   "execution_count": 4,
   "id": "1aabdbde",
   "metadata": {},
   "outputs": [
    {
     "data": {
      "text/plain": [
       "Index(['peli_id', 'titulo', 'fecha_estreno', 'fecha_lan_vid', 'imdb_url'], dtype='object')"
      ]
     },
     "execution_count": 4,
     "metadata": {},
     "output_type": "execute_result"
    }
   ],
   "source": [
    "peliculas.columns"
   ]
  },
  {
   "cell_type": "code",
   "execution_count": 5,
   "id": "fb60d1d0",
   "metadata": {},
   "outputs": [
    {
     "data": {
      "text/html": [
       "<div>\n",
       "<style scoped>\n",
       "    .dataframe tbody tr th:only-of-type {\n",
       "        vertical-align: middle;\n",
       "    }\n",
       "\n",
       "    .dataframe tbody tr th {\n",
       "        vertical-align: top;\n",
       "    }\n",
       "\n",
       "    .dataframe thead th {\n",
       "        text-align: right;\n",
       "    }\n",
       "</style>\n",
       "<table border=\"1\" class=\"dataframe\">\n",
       "  <thead>\n",
       "    <tr style=\"text-align: right;\">\n",
       "      <th></th>\n",
       "      <th>peli_id</th>\n",
       "      <th>titulo</th>\n",
       "      <th>fecha_estreno</th>\n",
       "      <th>fecha_lan_vid</th>\n",
       "      <th>imdb_url</th>\n",
       "    </tr>\n",
       "  </thead>\n",
       "  <tbody>\n",
       "    <tr>\n",
       "      <th>0</th>\n",
       "      <td>1</td>\n",
       "      <td>Toy Story (1995)</td>\n",
       "      <td>01-Jan-1995</td>\n",
       "      <td>NaN</td>\n",
       "      <td>http://us.imdb.com/M/title-exact?Toy%20Story%2...</td>\n",
       "    </tr>\n",
       "    <tr>\n",
       "      <th>1</th>\n",
       "      <td>2</td>\n",
       "      <td>GoldenEye (1995)</td>\n",
       "      <td>01-Jan-1995</td>\n",
       "      <td>NaN</td>\n",
       "      <td>http://us.imdb.com/M/title-exact?GoldenEye%20(...</td>\n",
       "    </tr>\n",
       "    <tr>\n",
       "      <th>2</th>\n",
       "      <td>3</td>\n",
       "      <td>Four Rooms (1995)</td>\n",
       "      <td>01-Jan-1995</td>\n",
       "      <td>NaN</td>\n",
       "      <td>http://us.imdb.com/M/title-exact?Four%20Rooms%...</td>\n",
       "    </tr>\n",
       "    <tr>\n",
       "      <th>3</th>\n",
       "      <td>4</td>\n",
       "      <td>Get Shorty (1995)</td>\n",
       "      <td>01-Jan-1995</td>\n",
       "      <td>NaN</td>\n",
       "      <td>http://us.imdb.com/M/title-exact?Get%20Shorty%...</td>\n",
       "    </tr>\n",
       "    <tr>\n",
       "      <th>4</th>\n",
       "      <td>5</td>\n",
       "      <td>Copycat (1995)</td>\n",
       "      <td>01-Jan-1995</td>\n",
       "      <td>NaN</td>\n",
       "      <td>http://us.imdb.com/M/title-exact?Copycat%20(1995)</td>\n",
       "    </tr>\n",
       "  </tbody>\n",
       "</table>\n",
       "</div>"
      ],
      "text/plain": [
       "   peli_id             titulo fecha_estreno  fecha_lan_vid  \\\n",
       "0        1   Toy Story (1995)   01-Jan-1995            NaN   \n",
       "1        2   GoldenEye (1995)   01-Jan-1995            NaN   \n",
       "2        3  Four Rooms (1995)   01-Jan-1995            NaN   \n",
       "3        4  Get Shorty (1995)   01-Jan-1995            NaN   \n",
       "4        5     Copycat (1995)   01-Jan-1995            NaN   \n",
       "\n",
       "                                            imdb_url  \n",
       "0  http://us.imdb.com/M/title-exact?Toy%20Story%2...  \n",
       "1  http://us.imdb.com/M/title-exact?GoldenEye%20(...  \n",
       "2  http://us.imdb.com/M/title-exact?Four%20Rooms%...  \n",
       "3  http://us.imdb.com/M/title-exact?Get%20Shorty%...  \n",
       "4  http://us.imdb.com/M/title-exact?Copycat%20(1995)  "
      ]
     },
     "execution_count": 5,
     "metadata": {},
     "output_type": "execute_result"
    }
   ],
   "source": [
    "peliculas.head()"
   ]
  },
  {
   "cell_type": "code",
   "execution_count": 6,
   "id": "aa25e00d",
   "metadata": {},
   "outputs": [
    {
     "data": {
      "text/plain": [
       "Index(['user_id', 'edad', 'sexo', 'ocupacion', 'cod_zip'], dtype='object')"
      ]
     },
     "execution_count": 6,
     "metadata": {},
     "output_type": "execute_result"
    }
   ],
   "source": [
    "usuarios.columns"
   ]
  },
  {
   "cell_type": "code",
   "execution_count": 7,
   "id": "a2bd60e6",
   "metadata": {},
   "outputs": [
    {
     "data": {
      "text/html": [
       "<div>\n",
       "<style scoped>\n",
       "    .dataframe tbody tr th:only-of-type {\n",
       "        vertical-align: middle;\n",
       "    }\n",
       "\n",
       "    .dataframe tbody tr th {\n",
       "        vertical-align: top;\n",
       "    }\n",
       "\n",
       "    .dataframe thead th {\n",
       "        text-align: right;\n",
       "    }\n",
       "</style>\n",
       "<table border=\"1\" class=\"dataframe\">\n",
       "  <thead>\n",
       "    <tr style=\"text-align: right;\">\n",
       "      <th></th>\n",
       "      <th>user_id</th>\n",
       "      <th>edad</th>\n",
       "      <th>sexo</th>\n",
       "      <th>ocupacion</th>\n",
       "      <th>cod_zip</th>\n",
       "    </tr>\n",
       "  </thead>\n",
       "  <tbody>\n",
       "    <tr>\n",
       "      <th>0</th>\n",
       "      <td>1</td>\n",
       "      <td>24</td>\n",
       "      <td>M</td>\n",
       "      <td>technician</td>\n",
       "      <td>85711</td>\n",
       "    </tr>\n",
       "    <tr>\n",
       "      <th>1</th>\n",
       "      <td>2</td>\n",
       "      <td>53</td>\n",
       "      <td>F</td>\n",
       "      <td>other</td>\n",
       "      <td>94043</td>\n",
       "    </tr>\n",
       "    <tr>\n",
       "      <th>2</th>\n",
       "      <td>3</td>\n",
       "      <td>23</td>\n",
       "      <td>M</td>\n",
       "      <td>writer</td>\n",
       "      <td>32067</td>\n",
       "    </tr>\n",
       "    <tr>\n",
       "      <th>3</th>\n",
       "      <td>4</td>\n",
       "      <td>24</td>\n",
       "      <td>M</td>\n",
       "      <td>technician</td>\n",
       "      <td>43537</td>\n",
       "    </tr>\n",
       "    <tr>\n",
       "      <th>4</th>\n",
       "      <td>5</td>\n",
       "      <td>33</td>\n",
       "      <td>F</td>\n",
       "      <td>other</td>\n",
       "      <td>15213</td>\n",
       "    </tr>\n",
       "  </tbody>\n",
       "</table>\n",
       "</div>"
      ],
      "text/plain": [
       "   user_id  edad sexo   ocupacion cod_zip\n",
       "0        1    24    M  technician   85711\n",
       "1        2    53    F       other   94043\n",
       "2        3    23    M      writer   32067\n",
       "3        4    24    M  technician   43537\n",
       "4        5    33    F       other   15213"
      ]
     },
     "execution_count": 7,
     "metadata": {},
     "output_type": "execute_result"
    }
   ],
   "source": [
    "usuarios.head()"
   ]
  },
  {
   "cell_type": "code",
   "execution_count": 8,
   "id": "87093793",
   "metadata": {},
   "outputs": [],
   "source": [
    "#\n",
    "peli_ratings = pd.merge(peliculas, ratings)\n",
    "clasif = pd.merge(peli_ratings, usuarios)"
   ]
  },
  {
   "cell_type": "code",
   "execution_count": 9,
   "id": "9c691ca5",
   "metadata": {},
   "outputs": [
    {
     "data": {
      "text/plain": [
       "titulo\n",
       "Star Wars (1977)                             583\n",
       "Contact (1997)                               509\n",
       "Fargo (1996)                                 508\n",
       "Return of the Jedi (1983)                    507\n",
       "Liar Liar (1997)                             485\n",
       "English Patient, The (1996)                  481\n",
       "Scream (1996)                                478\n",
       "Toy Story (1995)                             452\n",
       "Air Force One (1997)                         431\n",
       "Independence Day (ID4) (1996)                429\n",
       "Raiders of the Lost Ark (1981)               420\n",
       "Godfather, The (1972)                        413\n",
       "Pulp Fiction (1994)                          394\n",
       "Twelve Monkeys (1995)                        392\n",
       "Silence of the Lambs, The (1991)             390\n",
       "Jerry Maguire (1996)                         384\n",
       "Chasing Amy (1997)                           379\n",
       "Rock, The (1996)                             378\n",
       "Empire Strikes Back, The (1980)              367\n",
       "Star Trek: First Contact (1996)              365\n",
       "Titanic (1997)                               350\n",
       "Back to the Future (1985)                    350\n",
       "Mission: Impossible (1996)                   344\n",
       "Fugitive, The (1993)                         336\n",
       "Indiana Jones and the Last Crusade (1989)    331\n",
       "dtype: int64"
      ]
     },
     "execution_count": 9,
     "metadata": {},
     "output_type": "execute_result"
    }
   ],
   "source": [
    "mas_ratings = clasif.groupby('titulo').size().sort_values(ascending=False)[:25]\n",
    "mas_ratings"
   ]
  },
  {
   "cell_type": "code",
   "execution_count": 11,
   "id": "98a7d5a8",
   "metadata": {},
   "outputs": [
    {
     "data": {
      "text/html": [
       "<div>\n",
       "<style scoped>\n",
       "    .dataframe tbody tr th:only-of-type {\n",
       "        vertical-align: middle;\n",
       "    }\n",
       "\n",
       "    .dataframe tbody tr th {\n",
       "        vertical-align: top;\n",
       "    }\n",
       "\n",
       "    .dataframe thead tr th {\n",
       "        text-align: left;\n",
       "    }\n",
       "\n",
       "    .dataframe thead tr:last-of-type th {\n",
       "        text-align: right;\n",
       "    }\n",
       "</style>\n",
       "<table border=\"1\" class=\"dataframe\">\n",
       "  <thead>\n",
       "    <tr>\n",
       "      <th></th>\n",
       "      <th colspan=\"2\" halign=\"left\">rating</th>\n",
       "    </tr>\n",
       "    <tr>\n",
       "      <th></th>\n",
       "      <th>size</th>\n",
       "      <th>mean</th>\n",
       "    </tr>\n",
       "    <tr>\n",
       "      <th>titulo</th>\n",
       "      <th></th>\n",
       "      <th></th>\n",
       "    </tr>\n",
       "  </thead>\n",
       "  <tbody>\n",
       "    <tr>\n",
       "      <th>'Til There Was You (1997)</th>\n",
       "      <td>9</td>\n",
       "      <td>2.333333</td>\n",
       "    </tr>\n",
       "    <tr>\n",
       "      <th>1-900 (1994)</th>\n",
       "      <td>5</td>\n",
       "      <td>2.600000</td>\n",
       "    </tr>\n",
       "    <tr>\n",
       "      <th>101 Dalmatians (1996)</th>\n",
       "      <td>109</td>\n",
       "      <td>2.908257</td>\n",
       "    </tr>\n",
       "    <tr>\n",
       "      <th>12 Angry Men (1957)</th>\n",
       "      <td>125</td>\n",
       "      <td>4.344000</td>\n",
       "    </tr>\n",
       "    <tr>\n",
       "      <th>187 (1997)</th>\n",
       "      <td>41</td>\n",
       "      <td>3.024390</td>\n",
       "    </tr>\n",
       "  </tbody>\n",
       "</table>\n",
       "</div>"
      ],
      "text/plain": [
       "                          rating          \n",
       "                            size      mean\n",
       "titulo                                    \n",
       "'Til There Was You (1997)      9  2.333333\n",
       "1-900 (1994)                   5  2.600000\n",
       "101 Dalmatians (1996)        109  2.908257\n",
       "12 Angry Men (1957)          125  4.344000\n",
       "187 (1997)                    41  3.024390"
      ]
     },
     "execution_count": 11,
     "metadata": {},
     "output_type": "execute_result"
    }
   ],
   "source": [
    "#agg / agregar o agregacion\n",
    "peli_stats = clasif.groupby('titulo').agg({'rating': [np.size, np.mean]})\n",
    "peli_stats.head()"
   ]
  },
  {
   "cell_type": "code",
   "execution_count": 14,
   "id": "bc4a2c33",
   "metadata": {},
   "outputs": [
    {
     "data": {
      "text/html": [
       "<div>\n",
       "<style scoped>\n",
       "    .dataframe tbody tr th:only-of-type {\n",
       "        vertical-align: middle;\n",
       "    }\n",
       "\n",
       "    .dataframe tbody tr th {\n",
       "        vertical-align: top;\n",
       "    }\n",
       "\n",
       "    .dataframe thead tr th {\n",
       "        text-align: left;\n",
       "    }\n",
       "\n",
       "    .dataframe thead tr:last-of-type th {\n",
       "        text-align: right;\n",
       "    }\n",
       "</style>\n",
       "<table border=\"1\" class=\"dataframe\">\n",
       "  <thead>\n",
       "    <tr>\n",
       "      <th></th>\n",
       "      <th colspan=\"2\" halign=\"left\">rating</th>\n",
       "    </tr>\n",
       "    <tr>\n",
       "      <th></th>\n",
       "      <th>size</th>\n",
       "      <th>mean</th>\n",
       "    </tr>\n",
       "    <tr>\n",
       "      <th>titulo</th>\n",
       "      <th></th>\n",
       "      <th></th>\n",
       "    </tr>\n",
       "  </thead>\n",
       "  <tbody>\n",
       "    <tr>\n",
       "      <th>They Made Me a Criminal (1939)</th>\n",
       "      <td>1</td>\n",
       "      <td>5.0</td>\n",
       "    </tr>\n",
       "    <tr>\n",
       "      <th>Marlene Dietrich: Shadow and Light (1996)</th>\n",
       "      <td>1</td>\n",
       "      <td>5.0</td>\n",
       "    </tr>\n",
       "    <tr>\n",
       "      <th>Saint of Fort Washington, The (1993)</th>\n",
       "      <td>2</td>\n",
       "      <td>5.0</td>\n",
       "    </tr>\n",
       "    <tr>\n",
       "      <th>Someone Else's America (1995)</th>\n",
       "      <td>1</td>\n",
       "      <td>5.0</td>\n",
       "    </tr>\n",
       "    <tr>\n",
       "      <th>Star Kid (1997)</th>\n",
       "      <td>3</td>\n",
       "      <td>5.0</td>\n",
       "    </tr>\n",
       "  </tbody>\n",
       "</table>\n",
       "</div>"
      ],
      "text/plain": [
       "                                           rating     \n",
       "                                             size mean\n",
       "titulo                                                \n",
       "They Made Me a Criminal (1939)                  1  5.0\n",
       "Marlene Dietrich: Shadow and Light (1996)       1  5.0\n",
       "Saint of Fort Washington, The (1993)            2  5.0\n",
       "Someone Else's America (1995)                   1  5.0\n",
       "Star Kid (1997)                                 3  5.0"
      ]
     },
     "execution_count": 14,
     "metadata": {},
     "output_type": "execute_result"
    }
   ],
   "source": [
    "peli_stats.sort_values([('rating', 'mean')], ascending=False).head()"
   ]
  },
  {
   "cell_type": "code",
   "execution_count": 15,
   "id": "46c46c5a",
   "metadata": {},
   "outputs": [],
   "source": [
    "minimo_100 = peli_stats['rating']['size'] >= 100"
   ]
  },
  {
   "cell_type": "code",
   "execution_count": 17,
   "id": "d5083ead",
   "metadata": {},
   "outputs": [
    {
     "data": {
      "text/plain": [
       "titulo\n",
       "'Til There Was You (1997)                False\n",
       "1-900 (1994)                             False\n",
       "101 Dalmatians (1996)                     True\n",
       "12 Angry Men (1957)                       True\n",
       "187 (1997)                               False\n",
       "                                         ...  \n",
       "Young Guns II (1990)                     False\n",
       "Young Poisoner's Handbook, The (1995)    False\n",
       "Zeus and Roxanne (1997)                  False\n",
       "unknown                                  False\n",
       "Á köldum klaka (Cold Fever) (1994)       False\n",
       "Name: size, Length: 1664, dtype: bool"
      ]
     },
     "execution_count": 17,
     "metadata": {},
     "output_type": "execute_result"
    }
   ],
   "source": [
    "minimo_100"
   ]
  },
  {
   "cell_type": "code",
   "execution_count": 16,
   "id": "1c5ec289",
   "metadata": {},
   "outputs": [
    {
     "data": {
      "text/html": [
       "<div>\n",
       "<style scoped>\n",
       "    .dataframe tbody tr th:only-of-type {\n",
       "        vertical-align: middle;\n",
       "    }\n",
       "\n",
       "    .dataframe tbody tr th {\n",
       "        vertical-align: top;\n",
       "    }\n",
       "\n",
       "    .dataframe thead tr th {\n",
       "        text-align: left;\n",
       "    }\n",
       "\n",
       "    .dataframe thead tr:last-of-type th {\n",
       "        text-align: right;\n",
       "    }\n",
       "</style>\n",
       "<table border=\"1\" class=\"dataframe\">\n",
       "  <thead>\n",
       "    <tr>\n",
       "      <th></th>\n",
       "      <th colspan=\"2\" halign=\"left\">rating</th>\n",
       "    </tr>\n",
       "    <tr>\n",
       "      <th></th>\n",
       "      <th>size</th>\n",
       "      <th>mean</th>\n",
       "    </tr>\n",
       "    <tr>\n",
       "      <th>titulo</th>\n",
       "      <th></th>\n",
       "      <th></th>\n",
       "    </tr>\n",
       "  </thead>\n",
       "  <tbody>\n",
       "    <tr>\n",
       "      <th>Close Shave, A (1995)</th>\n",
       "      <td>112</td>\n",
       "      <td>4.491071</td>\n",
       "    </tr>\n",
       "    <tr>\n",
       "      <th>Schindler's List (1993)</th>\n",
       "      <td>298</td>\n",
       "      <td>4.466443</td>\n",
       "    </tr>\n",
       "    <tr>\n",
       "      <th>Wrong Trousers, The (1993)</th>\n",
       "      <td>118</td>\n",
       "      <td>4.466102</td>\n",
       "    </tr>\n",
       "    <tr>\n",
       "      <th>Casablanca (1942)</th>\n",
       "      <td>243</td>\n",
       "      <td>4.456790</td>\n",
       "    </tr>\n",
       "    <tr>\n",
       "      <th>Shawshank Redemption, The (1994)</th>\n",
       "      <td>283</td>\n",
       "      <td>4.445230</td>\n",
       "    </tr>\n",
       "    <tr>\n",
       "      <th>Rear Window (1954)</th>\n",
       "      <td>209</td>\n",
       "      <td>4.387560</td>\n",
       "    </tr>\n",
       "    <tr>\n",
       "      <th>Usual Suspects, The (1995)</th>\n",
       "      <td>267</td>\n",
       "      <td>4.385768</td>\n",
       "    </tr>\n",
       "    <tr>\n",
       "      <th>Star Wars (1977)</th>\n",
       "      <td>583</td>\n",
       "      <td>4.358491</td>\n",
       "    </tr>\n",
       "    <tr>\n",
       "      <th>12 Angry Men (1957)</th>\n",
       "      <td>125</td>\n",
       "      <td>4.344000</td>\n",
       "    </tr>\n",
       "    <tr>\n",
       "      <th>Citizen Kane (1941)</th>\n",
       "      <td>198</td>\n",
       "      <td>4.292929</td>\n",
       "    </tr>\n",
       "    <tr>\n",
       "      <th>To Kill a Mockingbird (1962)</th>\n",
       "      <td>219</td>\n",
       "      <td>4.292237</td>\n",
       "    </tr>\n",
       "    <tr>\n",
       "      <th>One Flew Over the Cuckoo's Nest (1975)</th>\n",
       "      <td>264</td>\n",
       "      <td>4.291667</td>\n",
       "    </tr>\n",
       "    <tr>\n",
       "      <th>Silence of the Lambs, The (1991)</th>\n",
       "      <td>390</td>\n",
       "      <td>4.289744</td>\n",
       "    </tr>\n",
       "    <tr>\n",
       "      <th>North by Northwest (1959)</th>\n",
       "      <td>179</td>\n",
       "      <td>4.284916</td>\n",
       "    </tr>\n",
       "    <tr>\n",
       "      <th>Godfather, The (1972)</th>\n",
       "      <td>413</td>\n",
       "      <td>4.283293</td>\n",
       "    </tr>\n",
       "  </tbody>\n",
       "</table>\n",
       "</div>"
      ],
      "text/plain": [
       "                                       rating          \n",
       "                                         size      mean\n",
       "titulo                                                 \n",
       "Close Shave, A (1995)                     112  4.491071\n",
       "Schindler's List (1993)                   298  4.466443\n",
       "Wrong Trousers, The (1993)                118  4.466102\n",
       "Casablanca (1942)                         243  4.456790\n",
       "Shawshank Redemption, The (1994)          283  4.445230\n",
       "Rear Window (1954)                        209  4.387560\n",
       "Usual Suspects, The (1995)                267  4.385768\n",
       "Star Wars (1977)                          583  4.358491\n",
       "12 Angry Men (1957)                       125  4.344000\n",
       "Citizen Kane (1941)                       198  4.292929\n",
       "To Kill a Mockingbird (1962)              219  4.292237\n",
       "One Flew Over the Cuckoo's Nest (1975)    264  4.291667\n",
       "Silence of the Lambs, The (1991)          390  4.289744\n",
       "North by Northwest (1959)                 179  4.284916\n",
       "Godfather, The (1972)                     413  4.283293"
      ]
     },
     "execution_count": 16,
     "metadata": {},
     "output_type": "execute_result"
    }
   ],
   "source": [
    "peli_stats[minimo_100].sort_values([('rating','mean')], ascending=False)[:15]"
   ]
  },
  {
   "cell_type": "code",
   "execution_count": null,
   "id": "b3cde48f",
   "metadata": {},
   "outputs": [],
   "source": []
  }
 ],
 "metadata": {
  "kernelspec": {
   "display_name": "Python 3",
   "language": "python",
   "name": "python3"
  },
  "language_info": {
   "codemirror_mode": {
    "name": "ipython",
    "version": 3
   },
   "file_extension": ".py",
   "mimetype": "text/x-python",
   "name": "python",
   "nbconvert_exporter": "python",
   "pygments_lexer": "ipython3",
   "version": "3.8.8"
  }
 },
 "nbformat": 4,
 "nbformat_minor": 5
}
